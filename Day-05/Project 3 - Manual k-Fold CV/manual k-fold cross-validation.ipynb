{
 "cells": [
  {
   "cell_type": "code",
   "execution_count": 6,
   "id": "ecc3cdce",
   "metadata": {},
   "outputs": [],
   "source": [
    "from sklearn.datasets import load_iris\n",
    "from sklearn.preprocessing import StandardScaler\n",
    "from sklearn.linear_model import LogisticRegression\n",
    "from sklearn.model_selection import KFold\n",
    "from sklearn.metrics import accuracy_score\n",
    "import pandas as pd \n",
    "import numpy as np\n"
   ]
  },
  {
   "cell_type": "code",
   "execution_count": 2,
   "id": "6be27000",
   "metadata": {},
   "outputs": [],
   "source": [
    "iris = load_iris()\n",
    "X = pd.DataFrame(data= iris.data, columns= iris.feature_names)\n",
    "y = iris.target"
   ]
  },
  {
   "cell_type": "code",
   "execution_count": 5,
   "id": "d25af006",
   "metadata": {},
   "outputs": [],
   "source": [
    "model = LogisticRegression(max_iter=200)"
   ]
  },
  {
   "cell_type": "code",
   "execution_count": 18,
   "id": "73e062d1",
   "metadata": {},
   "outputs": [],
   "source": [
    "kf = KFold(n_splits=5, shuffle=True, random_state=42)"
   ]
  },
  {
   "cell_type": "code",
   "execution_count": 9,
   "id": "b974308a",
   "metadata": {},
   "outputs": [],
   "source": [
    "accuracies = []\n",
    "scaler = StandardScaler()"
   ]
  },
  {
   "cell_type": "code",
   "execution_count": 21,
   "id": "50769f4a",
   "metadata": {},
   "outputs": [
    {
     "name": "stdout",
     "output_type": "stream",
     "text": [
      "(3, (array([  0,   1,   2,   3,   4,   5,   6,   7,   8,  10,  11,  13,  14,\n",
      "        15,  16,  17,  20,  21,  22,  23,  24,  25,  27,  28,  32,  33,\n",
      "        34,  35,  37,  38,  39,  40,  41,  42,  43,  44,  46,  47,  48,\n",
      "        49,  50,  51,  52,  53,  54,  57,  58,  59,  60,  61,  62,  63,\n",
      "        65,  66,  67,  70,  71,  72,  74,  75,  77,  79,  80,  81,  83,\n",
      "        84,  85,  86,  87,  88,  89,  90,  91,  92,  93,  94,  95,  96,\n",
      "        97,  98,  99, 100, 101, 102, 103, 105, 106, 107, 109, 111, 112,\n",
      "       113, 114, 115, 116, 117, 119, 120, 121, 122, 123, 124, 125, 126,\n",
      "       129, 130, 133, 134, 135, 136, 137, 138, 139, 140, 142, 144, 146,\n",
      "       147, 148, 149]), array([  9,  12,  18,  19,  26,  29,  30,  31,  36,  45,  55,  56,  64,\n",
      "        68,  69,  73,  76,  78,  82, 104, 108, 110, 118, 127, 128, 131,\n",
      "       132, 141, 143, 145])))\n",
      "(4, (array([  1,   2,   3,   5,   6,   7,   8,   9,  12,  13,  14,  17,  18,\n",
      "        19,  20,  21,  23,  24,  25,  26,  29,  30,  31,  33,  34,  35,\n",
      "        36,  37,  38,  39,  41,  43,  45,  46,  47,  48,  49,  50,  52,\n",
      "        53,  54,  55,  56,  57,  58,  59,  61,  62,  63,  64,  68,  69,\n",
      "        70,  71,  72,  73,  74,  76,  77,  78,  79,  80,  82,  83,  84,\n",
      "        87,  88,  89,  90,  91,  92,  93,  94,  95,  97,  98,  99, 100,\n",
      "       101, 102, 103, 104, 106, 107, 108, 110, 111, 112, 113, 114, 115,\n",
      "       116, 117, 118, 119, 120, 121, 123, 124, 125, 126, 127, 128, 129,\n",
      "       130, 131, 132, 134, 135, 136, 138, 139, 140, 141, 143, 144, 145,\n",
      "       147, 148, 149]), array([  0,   4,  10,  11,  15,  16,  22,  27,  28,  32,  40,  42,  44,\n",
      "        51,  60,  65,  66,  67,  75,  81,  85,  86,  96, 105, 109, 122,\n",
      "       133, 137, 142, 146])))\n",
      "(5, (array([  0,   1,   2,   3,   4,   6,   8,   9,  10,  11,  12,  13,  14,\n",
      "        15,  16,  17,  18,  19,  20,  21,  22,  26,  27,  28,  29,  30,\n",
      "        31,  32,  36,  37,  38,  40,  41,  42,  44,  45,  46,  48,  50,\n",
      "        51,  52,  54,  55,  56,  57,  58,  59,  60,  61,  63,  64,  65,\n",
      "        66,  67,  68,  69,  71,  72,  73,  74,  75,  76,  78,  79,  81,\n",
      "        82,  83,  85,  86,  87,  88,  89,  90,  91,  92,  96,  98,  99,\n",
      "       100, 102, 103, 104, 105, 106, 107, 108, 109, 110, 112, 115, 116,\n",
      "       118, 119, 120, 121, 122, 124, 125, 126, 127, 128, 129, 130, 131,\n",
      "       132, 133, 134, 135, 136, 137, 139, 140, 141, 142, 143, 144, 145,\n",
      "       146, 147, 149]), array([  5,   7,  23,  24,  25,  33,  34,  35,  39,  43,  47,  49,  53,\n",
      "        62,  70,  77,  80,  84,  93,  94,  95,  97, 101, 111, 113, 114,\n",
      "       117, 123, 138, 148])))\n",
      "(6, (array([  0,   1,   4,   5,   7,   9,  10,  11,  12,  14,  15,  16,  18,\n",
      "        19,  20,  21,  22,  23,  24,  25,  26,  27,  28,  29,  30,  31,\n",
      "        32,  33,  34,  35,  36,  37,  39,  40,  41,  42,  43,  44,  45,\n",
      "        47,  48,  49,  51,  52,  53,  55,  56,  57,  58,  60,  62,  64,\n",
      "        65,  66,  67,  68,  69,  70,  71,  73,  74,  75,  76,  77,  78,\n",
      "        80,  81,  82,  84,  85,  86,  87,  88,  90,  91,  92,  93,  94,\n",
      "        95,  96,  97,  99, 101, 102, 103, 104, 105, 106, 107, 108, 109,\n",
      "       110, 111, 113, 114, 116, 117, 118, 121, 122, 123, 124, 127, 128,\n",
      "       129, 130, 131, 132, 133, 137, 138, 140, 141, 142, 143, 144, 145,\n",
      "       146, 148, 149]), array([  2,   3,   6,   8,  13,  17,  38,  46,  50,  54,  59,  61,  63,\n",
      "        72,  79,  83,  89,  98, 100, 112, 115, 119, 120, 125, 126, 134,\n",
      "       135, 136, 139, 147])))\n",
      "(7, (array([  0,   2,   3,   4,   5,   6,   7,   8,   9,  10,  11,  12,  13,\n",
      "        15,  16,  17,  18,  19,  22,  23,  24,  25,  26,  27,  28,  29,\n",
      "        30,  31,  32,  33,  34,  35,  36,  38,  39,  40,  42,  43,  44,\n",
      "        45,  46,  47,  49,  50,  51,  53,  54,  55,  56,  59,  60,  61,\n",
      "        62,  63,  64,  65,  66,  67,  68,  69,  70,  72,  73,  75,  76,\n",
      "        77,  78,  79,  80,  81,  82,  83,  84,  85,  86,  89,  93,  94,\n",
      "        95,  96,  97,  98, 100, 101, 104, 105, 108, 109, 110, 111, 112,\n",
      "       113, 114, 115, 117, 118, 119, 120, 122, 123, 125, 126, 127, 128,\n",
      "       131, 132, 133, 134, 135, 136, 137, 138, 139, 141, 142, 143, 145,\n",
      "       146, 147, 148]), array([  1,  14,  20,  21,  37,  41,  48,  52,  57,  58,  71,  74,  87,\n",
      "        88,  90,  91,  92,  99, 102, 103, 106, 107, 116, 121, 124, 129,\n",
      "       130, 140, 144, 149])))\n"
     ]
    }
   ],
   "source": [
    "for item in enumerate(kf.split(X), 3):\n",
    "    print(item)"
   ]
  },
  {
   "cell_type": "code",
   "execution_count": 26,
   "id": "b2a5ee10",
   "metadata": {},
   "outputs": [
    {
     "name": "stdout",
     "output_type": "stream",
     "text": [
      "Fold 1 Accuracy: 1.0000\n",
      "Fold 2 Accuracy: 0.9667\n",
      "Fold 3 Accuracy: 0.9333\n",
      "Fold 4 Accuracy: 0.9000\n",
      "Fold 5 Accuracy: 0.9667\n"
     ]
    }
   ],
   "source": [
    "for fold, (train_index, test_index) in enumerate(kf.split(X), 1):\n",
    "    # Split the data\n",
    "    X_train, X_test = X.iloc[train_index], X.iloc[test_index]\n",
    "    y_train, y_test = y[train_index], y[test_index]\n",
    "\n",
    "    # Scale the data (fit only on training data!)\n",
    "    X_train_scaled = scaler.fit_transform(X_train)\n",
    "    X_test_scaled = scaler.transform(X_test)\n",
    "\n",
    "    # Train the model\n",
    "    model = LogisticRegression(max_iter=200)\n",
    "    model.fit(X_train_scaled, y_train)\n",
    "\n",
    "    # Evaluate\n",
    "    y_pred = model.predict(X_test_scaled)\n",
    "    acc = accuracy_score(y_test, y_pred)\n",
    "    accuracies.append(acc)\n",
    "\n",
    "    print(f\"Fold {fold} Accuracy: {acc:.4f}\")"
   ]
  },
  {
   "cell_type": "code",
   "execution_count": 27,
   "id": "ca00f018",
   "metadata": {},
   "outputs": [
    {
     "name": "stdout",
     "output_type": "stream",
     "text": [
      "\n",
      "Fold Accuracies:\n",
      "Fold 1: 1.0000\n",
      "Fold 2: 0.9667\n",
      "Fold 3: 0.9333\n",
      "Fold 4: 0.9000\n",
      "Fold 5: 0.9667\n",
      "\n",
      "Average Accuracy: 0.9533\n",
      "Standard Deviation: 0.0340\n"
     ]
    }
   ],
   "source": [
    "# Print individual fold accuracies\n",
    "print(\"\\nFold Accuracies:\")\n",
    "for i, acc in enumerate(accuracies, 1):\n",
    "    print(f\"Fold {i}: {acc:.4f}\")\n",
    "\n",
    "# Calculate average accuracy\n",
    "mean_accuracy = np.mean(accuracies)\n",
    "std_accuracy = np.std(accuracies)\n",
    "\n",
    "print(f\"\\nAverage Accuracy: {mean_accuracy:.4f}\")\n",
    "print(f\"Standard Deviation: {std_accuracy:.4f}\")\n"
   ]
  }
 ],
 "metadata": {
  "kernelspec": {
   "display_name": "amrxenv",
   "language": "python",
   "name": "python3"
  },
  "language_info": {
   "codemirror_mode": {
    "name": "ipython",
    "version": 3
   },
   "file_extension": ".py",
   "mimetype": "text/x-python",
   "name": "python",
   "nbconvert_exporter": "python",
   "pygments_lexer": "ipython3",
   "version": "3.12.8"
  }
 },
 "nbformat": 4,
 "nbformat_minor": 5
}
