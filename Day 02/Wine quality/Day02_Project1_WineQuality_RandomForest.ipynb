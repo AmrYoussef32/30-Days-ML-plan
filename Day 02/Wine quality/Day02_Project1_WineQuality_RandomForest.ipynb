{
 "cells": [
  {
   "cell_type": "markdown",
   "id": "e1b5ea14",
   "metadata": {},
   "source": [
    "# Day 02 - Project 1\n",
    "\n",
    "## Wine Quality Prediction using Random Forest Regressor"
   ]
  },
  {
   "cell_type": "markdown",
   "id": "e2d207f1",
   "metadata": {},
   "source": [
    "### Step 1: Import Required Libraries\n",
    "We import all necessary libraries for data handling, modeling, evaluation, and visualization."
   ]
  },
  {
   "cell_type": "code",
   "execution_count": null,
   "id": "7fd053cf",
   "metadata": {},
   "outputs": [],
   "source": [
    "# Numpy and Pandas for data manipulation\n",
    "import numpy as np\n",
    "import pandas as pd\n",
    "\n",
    "# Matplotlib and Seaborn for data visualization\n",
    "import matplotlib.pyplot as plt\n",
    "import seaborn as sns\n",
    "\n",
    "# Scikit-learn for model building and evaluation\n",
    "from sklearn.model_selection import train_test_split\n",
    "from sklearn.ensemble import RandomForestRegressor\n",
    "from sklearn.metrics import mean_squared_error, r2_score"
   ]
  },
  {
   "cell_type": "markdown",
   "id": "ef9a0eaf",
   "metadata": {},
   "source": [
    "### Step 2: Load the Dataset\n",
    "We load the red wine quality dataset. It uses semicolons as separators."
   ]
  },
  {
   "cell_type": "code",
   "execution_count": null,
   "id": "9c33d0d6",
   "metadata": {},
   "outputs": [],
   "source": [
    "# Load the dataset (must be in the same directory)\n",
    "df = pd.read_csv('winequality-red.csv', sep=';')\n",
    "# Display first few rows to understand structure\n",
    "df.head()"
   ]
  },
  {
   "cell_type": "markdown",
   "id": "fa2e3adc",
   "metadata": {},
   "source": [
    "### Step 3: Explore the Dataset\n",
    "Check data types, missing values, and feature distributions."
   ]
  },
  {
   "cell_type": "code",
   "execution_count": null,
   "id": "1df8a032",
   "metadata": {},
   "outputs": [],
   "source": [
    "# Display structure and check for nulls\n",
    "df.info()\n",
    "\n",
    "# Statistical summary of numerical features\n",
    "df.describe()\n",
    "\n",
    "# Check for missing values in each column\n",
    "df.isnull().sum()"
   ]
  },
  {
   "cell_type": "code",
   "execution_count": null,
   "id": "0a19e7b1",
   "metadata": {},
   "outputs": [],
   "source": [
    "# Plot the distribution of wine quality scores\n",
    "sns.countplot(x='quality', data=df)\n",
    "plt.title('Distribution of Wine Quality')\n",
    "plt.xlabel('Quality Score')\n",
    "plt.ylabel('Frequency')\n",
    "plt.show()"
   ]
  },
  {
   "cell_type": "markdown",
   "id": "b43ed6de",
   "metadata": {},
   "source": [
    "### Step 4: Prepare Features and Target Variable\n",
    "We separate the input features (X) and the target (y)."
   ]
  },
  {
   "cell_type": "code",
   "execution_count": null,
   "id": "7f99b8f5",
   "metadata": {},
   "outputs": [],
   "source": [
    "# X = all columns except 'quality'\n",
    "X = df.drop('quality', axis=1)\n",
    "# y = the target column we want to predict\n",
    "y = df['quality']"
   ]
  },
  {
   "cell_type": "markdown",
   "id": "a9b091ca",
   "metadata": {},
   "source": [
    "### Step 5: Train-Test Split\n",
    "Split data to train the model on part of it and test on unseen data."
   ]
  },
  {
   "cell_type": "code",
   "execution_count": null,
   "id": "0733a268",
   "metadata": {},
   "outputs": [],
   "source": [
    "# 80% training and 20% testing split\n",
    "X_train, X_test, y_train, y_test = train_test_split(X, y, test_size=0.2, random_state=42)\n",
    "\n",
    "# Confirm shapes of the split\n",
    "print('X_train shape:', X_train.shape)\n",
    "print('X_test shape:', X_test.shape)"
   ]
  },
  {
   "cell_type": "markdown",
   "id": "2e40dfb9",
   "metadata": {},
   "source": [
    "### Step 6: Train the Random Forest Regressor\n",
    "Fit the model on training data to learn patterns."
   ]
  },
  {
   "cell_type": "code",
   "execution_count": null,
   "id": "acf60184",
   "metadata": {},
   "outputs": [],
   "source": [
    "# Create a Random Forest Regressor model\n",
    "model = RandomForestRegressor(random_state=42)\n",
    "\n",
    "# Train the model on the training data\n",
    "model.fit(X_train, y_train)"
   ]
  },
  {
   "cell_type": "markdown",
   "id": "c1ecb59c",
   "metadata": {},
   "source": [
    "### Step 7: Make Predictions\n",
    "Use the trained model to predict wine quality on the test set."
   ]
  },
  {
   "cell_type": "code",
   "execution_count": null,
   "id": "fffbbb95",
   "metadata": {},
   "outputs": [],
   "source": [
    "# Predict on test data\n",
    "y_pred = model.predict(X_test)"
   ]
  },
  {
   "cell_type": "markdown",
   "id": "7ddeb6fd",
   "metadata": {},
   "source": [
    "### Step 8: Evaluate the Model\n",
    "Measure the model's performance using MSE, RMSE, and R² score."
   ]
  },
  {
   "cell_type": "code",
   "execution_count": null,
   "id": "93f2a51c",
   "metadata": {},
   "outputs": [],
   "source": [
    "# Mean Squared Error\n",
    "mse = mean_squared_error(y_test, y_pred)\n",
    "# Root Mean Squared Error\n",
    "rmse = np.sqrt(mse)\n",
    "# R-squared Score\n",
    "r2 = r2_score(y_test, y_pred)\n",
    "\n",
    "# Print evaluation metrics\n",
    "print(f'MSE: {mse:.4f}')\n",
    "print(f'RMSE: {rmse:.4f}')\n",
    "print(f'R² Score: {r2:.4f}')"
   ]
  },
  {
   "cell_type": "markdown",
   "id": "9b04f77d",
   "metadata": {},
   "source": [
    "### Step 9: Feature Importance\n",
    "Understand which features most influenced the model's decisions."
   ]
  },
  {
   "cell_type": "code",
   "execution_count": null,
   "id": "e131fb95",
   "metadata": {},
   "outputs": [],
   "source": [
    "# Get importance of each feature from the model\n",
    "importances = model.feature_importances_\n",
    "feature_names = X.columns\n",
    "\n",
    "# Create a DataFrame for visualization\n",
    "importance_df = pd.DataFrame({'Feature': feature_names, 'Importance': importances})\n",
    "importance_df = importance_df.sort_values(by='Importance', ascending=False)\n",
    "\n",
    "# Plot feature importance\n",
    "plt.figure(figsize=(10,6))\n",
    "sns.barplot(x='Importance', y='Feature', data=importance_df)\n",
    "plt.title('Feature Importances')\n",
    "plt.show()"
   ]
  },
  {
   "cell_type": "markdown",
   "id": "72bf2986",
   "metadata": {},
   "source": [
    "### ✅ Final Notes\n",
    "- Random Forest Regressors handle non-linear relationships well.\n",
    "- RMSE provides a sense of how far off predictions are (on average).\n",
    "- Feature importances are a great way to understand model logic.\n",
    "- Always explore and understand your data before training models."
   ]
  }
 ],
 "metadata": {},
 "nbformat": 4,
 "nbformat_minor": 5
}
