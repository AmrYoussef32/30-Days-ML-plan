{
 "cells": [
  {
   "cell_type": "markdown",
   "id": "5a9c07fa",
   "metadata": {},
   "source": [
    "# Day 01 - Project 1\n",
    "\n",
    "## Linear Regression on California Housing Dataset"
   ]
  },
  {
   "cell_type": "markdown",
   "id": "5a69d614",
   "metadata": {},
   "source": [
    "### Step 1: Import Required Libraries\n",
    "We import all necessary libraries to handle data, build models, and visualize results."
   ]
  },
  {
   "cell_type": "code",
   "execution_count": null,
   "id": "b206aeed",
   "metadata": {},
   "outputs": [],
   "source": [
    "import numpy as np\n",
    "import pandas as pd\n",
    "import matplotlib.pyplot as plt\n",
    "from sklearn.datasets import fetch_california_housing\n",
    "from sklearn.model_selection import train_test_split\n",
    "from sklearn.linear_model import LinearRegression\n",
    "from sklearn.metrics import mean_squared_error, r2_score"
   ]
  },
  {
   "cell_type": "markdown",
   "id": "a90a5344",
   "metadata": {},
   "source": [
    "### Step 2: Load the Dataset\n",
    "Fetch the California Housing dataset from sklearn datasets."
   ]
  },
  {
   "cell_type": "code",
   "execution_count": null,
   "id": "9f60e012",
   "metadata": {},
   "outputs": [],
   "source": [
    "california = fetch_california_housing()\n",
    "print(california.keys())\n",
    "print(california.data.shape)\n",
    "print(california.feature_names)\n",
    "print(california.DESCR)"
   ]
  },
  {
   "cell_type": "markdown",
   "id": "f04cd499",
   "metadata": {},
   "source": [
    "### Step 3: Create a DataFrame\n",
    "We transform the dataset into a pandas DataFrame for easier exploration."
   ]
  },
  {
   "cell_type": "code",
   "execution_count": null,
   "id": "b52ae821",
   "metadata": {},
   "outputs": [],
   "source": [
    "X = pd.DataFrame(california.data, columns=california.feature_names)\n",
    "y = california.target\n",
    "X.head()"
   ]
  },
  {
   "cell_type": "markdown",
   "id": "6ce7ca20",
   "metadata": {},
   "source": [
    "### Step 4: Split Data into Train and Test Sets\n",
    "We split the data to train on one part and test on another to avoid overfitting."
   ]
  },
  {
   "cell_type": "code",
   "execution_count": null,
   "id": "09eadd2f",
   "metadata": {},
   "outputs": [],
   "source": [
    "X_train, X_test, y_train, y_test = train_test_split(X, y, test_size=0.2, random_state=42)"
   ]
  },
  {
   "cell_type": "markdown",
   "id": "532e0feb",
   "metadata": {},
   "source": [
    "### Step 5: Create and Train the Linear Regression Model"
   ]
  },
  {
   "cell_type": "code",
   "execution_count": null,
   "id": "0682b6ae",
   "metadata": {},
   "outputs": [],
   "source": [
    "model = LinearRegression()\n",
    "model.fit(X_train, y_train)"
   ]
  },
  {
   "cell_type": "markdown",
   "id": "712d4925",
   "metadata": {},
   "source": [
    "### Step 6: Predict on Test Set\n",
    "Use the trained model to predict on the unseen test data."
   ]
  },
  {
   "cell_type": "code",
   "execution_count": null,
   "id": "63b7da92",
   "metadata": {},
   "outputs": [],
   "source": [
    "y_pred = model.predict(X_test)"
   ]
  },
  {
   "cell_type": "markdown",
   "id": "faef8f81",
   "metadata": {},
   "source": [
    "### Step 7: Evaluate the Model\n",
    "We evaluate the model using Mean Squared Error (MSE), Root Mean Squared Error (RMSE), and R² score."
   ]
  },
  {
   "cell_type": "code",
   "execution_count": null,
   "id": "6b9df235",
   "metadata": {},
   "outputs": [],
   "source": [
    "mse = mean_squared_error(y_test, y_pred)\n",
    "rmse = np.sqrt(mse)\n",
    "r2 = r2_score(y_test, y_pred)\n",
    "\n",
    "print(f\"Mean Squared Error (MSE): {mse:.4f}\")\n",
    "print(f\"Root Mean Squared Error (RMSE): {rmse:.4f}\")\n",
    "print(f\"R² Score: {r2:.4f}\")"
   ]
  },
  {
   "cell_type": "markdown",
   "id": "4bedfdc3",
   "metadata": {},
   "source": [
    "### Step 8: Visualize Predictions\n",
    "We plot the true vs predicted house prices using different colors for clarity."
   ]
  },
  {
   "cell_type": "code",
   "execution_count": null,
   "id": "e45fb0c1",
   "metadata": {},
   "outputs": [],
   "source": [
    "plt.figure(figsize=(8, 6))\n",
    "plt.scatter(range(len(y_test)), y_test, color='blue', label='True Prices', alpha=0.6)\n",
    "plt.scatter(range(len(y_pred)), y_pred, color='red', label='Predicted Prices', alpha=0.6)\n",
    "plt.title('True vs Predicted House Prices')\n",
    "plt.xlabel('Sample Index')\n",
    "plt.ylabel('House Price ($100,000 units)')\n",
    "plt.legend()\n",
    "plt.show()"
   ]
  },
  {
   "cell_type": "markdown",
   "id": "87edf7f3",
   "metadata": {},
   "source": [
    "### 📚 Final Notes\n",
    "- MSE is the average of squared errors (not a percentage).\n",
    "- RMSE gives the real-world average error in the same unit as house prices.\n",
    "- A lower RMSE means better model performance.\n",
    "- R² score shows how much variance is explained by the model (closer to 1 is better)."
   ]
  }
 ],
 "metadata": {
  "kernelspec": {
   "display_name": "Python (amrxenv)",
   "language": "python",
   "name": "amrxenv"
  },
  "language_info": {
   "name": "python",
   "version": "3.12.8"
  }
 },
 "nbformat": 4,
 "nbformat_minor": 5
}
