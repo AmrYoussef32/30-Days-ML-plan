{
 "cells": [
  {
   "cell_type": "code",
   "execution_count": null,
   "id": "8c7a791a",
   "metadata": {},
   "outputs": [],
   "source": [
    "import numpy as np\n",
    "classes = [0,1]\n",
    "conf_matrix = np.zeros((2,2), dtype=int)\n",
    "y_true = np.array([0, 1, 0, 1, 0, 1, 1, 0, 1, 0])\n",
    "y_pred = np.array([0, 0, 0, 1, 0, 1, 0, 0, 1, 1])\n",
    "conf_matrix"
   ]
  },
  {
   "cell_type": "code",
   "execution_count": 18,
   "id": "38ab3164",
   "metadata": {},
   "outputs": [
    {
     "data": {
      "text/plain": [
       "[(0, 0),\n",
       " (1, 0),\n",
       " (0, 0),\n",
       " (1, 1),\n",
       " (0, 0),\n",
       " (1, 1),\n",
       " (1, 0),\n",
       " (0, 0),\n",
       " (1, 1),\n",
       " (0, 1)]"
      ]
     },
     "execution_count": 18,
     "metadata": {},
     "output_type": "execute_result"
    }
   ],
   "source": [
    "y_t = [0, 1, 0, 1, 0, 1, 1, 0, 1, 0]\n",
    "y_p = [0, 0, 0, 1, 0, 1, 0, 0, 1, 1]\n",
    "a = zip(y_t, y_p)\n",
    "list(a) "
   ]
  },
  {
   "cell_type": "code",
   "execution_count": null,
   "id": "aaa3aca6",
   "metadata": {},
   "outputs": [],
   "source": [
    "for t, p in zip(y_true, y_pred):\n",
    "    conf_matrix[t][p] += 1\n",
    "\n",
    "conf_matrix"
   ]
  },
  {
   "cell_type": "code",
   "execution_count": null,
   "id": "6ab9acc9",
   "metadata": {},
   "outputs": [],
   "source": [
    "a = [1, 2, 3]\n",
    "b = ['a', 'b', 'c']\n",
    "\n",
    "z = zip(a, b)\n",
    "print(list(z))\n"
   ]
  }
 ],
 "metadata": {
  "kernelspec": {
   "display_name": "amrxenv",
   "language": "python",
   "name": "python3"
  },
  "language_info": {
   "codemirror_mode": {
    "name": "ipython",
    "version": 3
   },
   "file_extension": ".py",
   "mimetype": "text/x-python",
   "name": "python",
   "nbconvert_exporter": "python",
   "pygments_lexer": "ipython3",
   "version": "3.12.8"
  }
 },
 "nbformat": 4,
 "nbformat_minor": 5
}
