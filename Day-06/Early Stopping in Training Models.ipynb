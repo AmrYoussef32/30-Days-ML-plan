{
 "cells": [
  {
   "cell_type": "code",
   "execution_count": 1,
   "id": "b334bcb5",
   "metadata": {},
   "outputs": [],
   "source": [
    "from sklearn.datasets import load_iris\n",
    "from sklearn.model_selection import train_test_split\n",
    "from sklearn.linear_model import SGDClassifier\n",
    "from sklearn.preprocessing import StandardScaler\n",
    "from sklearn.metrics import accuracy_score\n",
    "from copy import deepcopy\n",
    "import numpy as np\n",
    "import pandas as pd\n",
    "\n",
    "# Load Iris dataset\n",
    "iris = load_iris()\n",
    "X = pd.DataFrame(iris.data, columns=iris.feature_names)\n",
    "y = iris.target\n",
    "\n",
    "# Use only 2 classes for simplicity (make it binary classification)\n",
    "binary_mask = y != 2\n",
    "X = X[binary_mask]\n",
    "y = y[binary_mask]\n",
    "\n",
    "# Split into train and validation\n",
    "X_train, X_val, y_train, y_val = train_test_split(X, y, test_size=0.2, random_state=42)\n"
   ]
  },
  {
   "cell_type": "code",
   "execution_count": 2,
   "id": "c5429434",
   "metadata": {},
   "outputs": [],
   "source": [
    "# Scale features\n",
    "scaler = StandardScaler()\n",
    "X_train_scaled = scaler.fit_transform(X_train)\n",
    "X_val_scaled = scaler.transform(X_val)\n",
    "\n",
    "# Initialize SGDClassifier (supports partial_fit)\n",
    "model = SGDClassifier(loss=\"log_loss\", max_iter=1, warm_start=True, random_state=42)"
   ]
  },
  {
   "cell_type": "code",
   "execution_count": 3,
   "id": "640a8284",
   "metadata": {},
   "outputs": [],
   "source": [
    "from copy import deepcopy\n",
    "from sklearn.metrics import accuracy_score\n",
    "\n",
    "# For tracking best model\n",
    "best_model = None\n",
    "best_val_acc = 0\n",
    "patience = 3\n",
    "no_improve_epochs = 0\n",
    "val_acc_history = []\n",
    "\n",
    "# First call to partial_fit requires classes explicitly\n",
    "classes = np.unique(y)\n"
   ]
  },
  {
   "cell_type": "code",
   "execution_count": 4,
   "id": "81dc0e33",
   "metadata": {},
   "outputs": [
    {
     "name": "stdout",
     "output_type": "stream",
     "text": [
      "Epoch 1: Train Acc = 1.0000 | Val Acc = 1.0000\n",
      "Epoch 2: Train Acc = 1.0000 | Val Acc = 1.0000\n",
      "Epoch 3: Train Acc = 1.0000 | Val Acc = 1.0000\n",
      "Epoch 4: Train Acc = 1.0000 | Val Acc = 1.0000\n",
      "⛔ Early stopping triggered at epoch 4\n"
     ]
    }
   ],
   "source": [
    "best_model = None\n",
    "best_val_acc = 0\n",
    "patience = 3\n",
    "no_improve_epochs = 0\n",
    "val_acc_history = []\n",
    "train_acc_history = []\n",
    "\n",
    "# Needed for first call of partial_fit\n",
    "classes = np.unique(y_train)\n",
    "\n",
    "# Training loop\n",
    "n_epochs = 50\n",
    "for epoch in range(n_epochs):\n",
    "    # Train for one epoch\n",
    "    model.partial_fit(X_train_scaled, y_train, classes=classes)\n",
    "    \n",
    "    # Predict on train and validation sets\n",
    "    y_train_pred = model.predict(X_train_scaled)\n",
    "    y_val_pred = model.predict(X_val_scaled)\n",
    "\n",
    "    # Calculate accuracies\n",
    "    train_acc = accuracy_score(y_train, y_train_pred)\n",
    "    val_acc = accuracy_score(y_val, y_val_pred)\n",
    "    \n",
    "    train_acc_history.append(train_acc)\n",
    "    val_acc_history.append(val_acc)\n",
    "\n",
    "    print(f\"Epoch {epoch+1}: Train Acc = {train_acc:.4f} | Val Acc = {val_acc:.4f}\")\n",
    "    \n",
    "    # Check for improvement\n",
    "    if val_acc > best_val_acc:\n",
    "        best_val_acc = val_acc\n",
    "        best_model = deepcopy(model)\n",
    "        no_improve_epochs = 0\n",
    "    else:\n",
    "        no_improve_epochs += 1\n",
    "    \n",
    "    # Early stop\n",
    "    if no_improve_epochs >= patience:\n",
    "        print(f\"⛔ Early stopping triggered at epoch {epoch+1}\")\n",
    "        break"
   ]
  }
 ],
 "metadata": {
  "kernelspec": {
   "display_name": "amrxenv",
   "language": "python",
   "name": "python3"
  },
  "language_info": {
   "codemirror_mode": {
    "name": "ipython",
    "version": 3
   },
   "file_extension": ".py",
   "mimetype": "text/x-python",
   "name": "python",
   "nbconvert_exporter": "python",
   "pygments_lexer": "ipython3",
   "version": "3.12.8"
  }
 },
 "nbformat": 4,
 "nbformat_minor": 5
}
