{
 "cells": [
  {
   "cell_type": "markdown",
   "id": "c980118f",
   "metadata": {},
   "source": [
    "# Day 01 - Project 2\n",
    "\n",
    "## Logistic Regression on Breast Cancer Dataset"
   ]
  },
  {
   "cell_type": "markdown",
   "id": "d11d4786",
   "metadata": {},
   "source": [
    "### Step 1: Import Required Libraries\n",
    "We import necessary libraries to load data, preprocess, build the model, and evaluate it."
   ]
  },
  {
   "cell_type": "code",
   "execution_count": 1,
   "id": "ba830258",
   "metadata": {},
   "outputs": [],
   "source": [
    "import numpy as np\n",
    "import pandas as pd\n",
    "import matplotlib.pyplot as plt\n",
    "from sklearn.datasets import load_breast_cancer\n",
    "from sklearn.model_selection import train_test_split\n",
    "from sklearn.linear_model import LogisticRegression\n",
    "from sklearn.metrics import confusion_matrix, accuracy_score, precision_score, recall_score, f1_score, roc_auc_score, RocCurveDisplay"
   ]
  },
  {
   "cell_type": "markdown",
   "id": "6f0689a3",
   "metadata": {},
   "source": [
    "### Step 2: Load the Dataset\n",
    "Load the Breast Cancer dataset from sklearn."
   ]
  },
  {
   "cell_type": "code",
   "execution_count": 3,
   "id": "1151ec45",
   "metadata": {},
   "outputs": [
    {
     "name": "stdout",
     "output_type": "stream",
     "text": [
      "dict_keys(['data', 'target', 'frame', 'target_names', 'DESCR', 'feature_names', 'filename', 'data_module'])\n",
      "(569, 30)\n",
      "['malignant' 'benign']\n",
      "['mean radius' 'mean texture' 'mean perimeter' 'mean area'\n",
      " 'mean smoothness' 'mean compactness' 'mean concavity'\n",
      " 'mean concave points' 'mean symmetry' 'mean fractal dimension'\n",
      " 'radius error' 'texture error' 'perimeter error' 'area error'\n",
      " 'smoothness error' 'compactness error' 'concavity error'\n",
      " 'concave points error' 'symmetry error' 'fractal dimension error'\n",
      " 'worst radius' 'worst texture' 'worst perimeter' 'worst area'\n",
      " 'worst smoothness' 'worst compactness' 'worst concavity'\n",
      " 'worst concave points' 'worst symmetry' 'worst fractal dimension']\n"
     ]
    }
   ],
   "source": [
    "cancer = load_breast_cancer()\n",
    "print(cancer.keys())\n",
    "print(cancer.data.shape)\n",
    "print(cancer.target_names)\n",
    "print(cancer.feature_names)\n",
    "#print(cancer.DESCR)"
   ]
  },
  {
   "cell_type": "markdown",
   "id": "9400d365",
   "metadata": {},
   "source": [
    "### Step 3: Create a DataFrame\n",
    "We create a DataFrame for better exploration and handling."
   ]
  },
  {
   "cell_type": "code",
   "execution_count": null,
   "id": "3700e831",
   "metadata": {},
   "outputs": [],
   "source": [
    "X = pd.DataFrame(cancer.data, columns=cancer.feature_names)\n",
    "y = cancer.target\n",
    "X.head()"
   ]
  },
  {
   "cell_type": "markdown",
   "id": "3c9e3443",
   "metadata": {},
   "source": [
    "### Step 4: Split Data into Train and Test Sets\n",
    "We split the dataset to evaluate model generalization."
   ]
  },
  {
   "cell_type": "code",
   "execution_count": null,
   "id": "54099b08",
   "metadata": {},
   "outputs": [],
   "source": [
    "X_train, X_test, y_train, y_test = train_test_split(X, y, test_size=0.2, random_state=42)"
   ]
  },
  {
   "cell_type": "markdown",
   "id": "c7795412",
   "metadata": {},
   "source": [
    "### Step 5: Build and Train the Logistic Regression Model"
   ]
  },
  {
   "cell_type": "code",
   "execution_count": null,
   "id": "2e0585a4",
   "metadata": {},
   "outputs": [],
   "source": [
    "model = LogisticRegression(max_iter=10000)\n",
    "model.fit(X_train, y_train)"
   ]
  },
  {
   "cell_type": "markdown",
   "id": "0fa266fe",
   "metadata": {},
   "source": [
    "### Step 6: Predict on Test Set\n",
    "Use the trained model to make predictions."
   ]
  },
  {
   "cell_type": "code",
   "execution_count": null,
   "id": "e81e49ee",
   "metadata": {},
   "outputs": [],
   "source": [
    "y_pred = model.predict(X_test)"
   ]
  },
  {
   "cell_type": "markdown",
   "id": "45e7bfad",
   "metadata": {},
   "source": [
    "### Step 7: Evaluate the Model\n",
    "We evaluate using Accuracy, Precision, Recall, F1 Score, and ROC AUC."
   ]
  },
  {
   "cell_type": "code",
   "execution_count": null,
   "id": "3d3bbc85",
   "metadata": {},
   "outputs": [],
   "source": [
    "print(\"Accuracy:\", accuracy_score(y_test, y_pred))\n",
    "print(\"Precision:\", precision_score(y_test, y_pred))\n",
    "print(\"Recall:\", recall_score(y_test, y_pred))\n",
    "print(\"F1 Score:\", f1_score(y_test, y_pred))\n",
    "print(\"ROC AUC Score:\", roc_auc_score(y_test, y_pred))"
   ]
  },
  {
   "cell_type": "markdown",
   "id": "d352924e",
   "metadata": {},
   "source": [
    "### Step 8: Confusion Matrix\n",
    "We visualize the confusion matrix."
   ]
  },
  {
   "cell_type": "code",
   "execution_count": null,
   "id": "604eb166",
   "metadata": {},
   "outputs": [],
   "source": [
    "conf_mat = confusion_matrix(y_test, y_pred)\n",
    "print(conf_mat)\n",
    "plt.figure(figsize=(6,4))\n",
    "plt.imshow(conf_mat, cmap='Blues')\n",
    "plt.title('Confusion Matrix')\n",
    "plt.colorbar()\n",
    "plt.xlabel('Predicted')\n",
    "plt.ylabel('Actual')\n",
    "plt.show()"
   ]
  },
  {
   "cell_type": "markdown",
   "id": "85efdb04",
   "metadata": {},
   "source": [
    "### Step 9: Plot ROC Curve\n",
    "We visualize the trade-off between sensitivity and specificity."
   ]
  },
  {
   "cell_type": "code",
   "execution_count": null,
   "id": "50fd914b",
   "metadata": {},
   "outputs": [],
   "source": [
    "RocCurveDisplay.from_estimator(model, X_test, y_test)\n",
    "plt.title('ROC Curve')\n",
    "plt.show()"
   ]
  },
  {
   "cell_type": "markdown",
   "id": "9c190cf0",
   "metadata": {},
   "source": [
    "### 📚 Final Notes\n",
    "- Logistic Regression is great for binary classification tasks.\n",
    "- Focus on Precision or Recall depending on business needs.\n",
    "- High Recall is crucial in medical diagnosis to avoid missing positive cases (malignant tumors)."
   ]
  }
 ],
 "metadata": {
  "kernelspec": {
   "display_name": "Python (amrxenv)",
   "language": "python",
   "name": "amrxenv"
  },
  "language_info": {
   "codemirror_mode": {
    "name": "ipython",
    "version": 3
   },
   "file_extension": ".py",
   "mimetype": "text/x-python",
   "name": "python",
   "nbconvert_exporter": "python",
   "pygments_lexer": "ipython3",
   "version": "3.12.8"
  }
 },
 "nbformat": 4,
 "nbformat_minor": 5
}
