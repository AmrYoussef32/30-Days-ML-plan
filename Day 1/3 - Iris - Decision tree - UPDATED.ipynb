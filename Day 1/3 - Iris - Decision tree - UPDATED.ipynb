{
 "cells": [
  {
   "cell_type": "markdown",
   "id": "2113ff8b",
   "metadata": {},
   "source": [
    "# Day 01 - Project 3\n",
    "\n",
    "## Decision Tree Classifier on Iris Dataset"
   ]
  },
  {
   "cell_type": "markdown",
   "id": "98c88b5a",
   "metadata": {},
   "source": [
    "### Step 1: Import Required Libraries\n",
    "We import libraries to load data, build a decision tree, visualize it, and evaluate the model."
   ]
  },
  {
   "cell_type": "code",
   "execution_count": null,
   "id": "d48747bc",
   "metadata": {},
   "outputs": [],
   "source": [
    "import numpy as np\n",
    "import pandas as pd\n",
    "import matplotlib.pyplot as plt\n",
    "from sklearn.datasets import load_iris\n",
    "from sklearn.model_selection import train_test_split\n",
    "from sklearn.tree import DecisionTreeClassifier, plot_tree\n",
    "from sklearn.metrics import confusion_matrix, classification_report"
   ]
  },
  {
   "cell_type": "markdown",
   "id": "536aace8",
   "metadata": {},
   "source": [
    "### Step 2: Load the Dataset\n",
    "We load the famous Iris dataset."
   ]
  },
  {
   "cell_type": "code",
   "execution_count": null,
   "id": "e9689646",
   "metadata": {},
   "outputs": [],
   "source": [
    "iris = load_iris()\n",
    "print(iris.keys())\n",
    "print(iris.data.shape)\n",
    "print(iris.target_names)\n",
    "print(iris.feature_names)\n",
    "print(iris.DESCR)"
   ]
  },
  {
   "cell_type": "markdown",
   "id": "2bb95160",
   "metadata": {},
   "source": [
    "### Step 3: Create a DataFrame\n",
    "We create a DataFrame for easier handling and visualization."
   ]
  },
  {
   "cell_type": "code",
   "execution_count": null,
   "id": "97529f13",
   "metadata": {},
   "outputs": [],
   "source": [
    "X = pd.DataFrame(iris.data, columns=iris.feature_names)\n",
    "y = iris.target\n",
    "X.head()"
   ]
  },
  {
   "cell_type": "markdown",
   "id": "ecb2ccf4",
   "metadata": {},
   "source": [
    "### Step 4: Split Data into Train and Test Sets\n",
    "We split the dataset to evaluate the model's generalization performance."
   ]
  },
  {
   "cell_type": "code",
   "execution_count": null,
   "id": "51d23a96",
   "metadata": {},
   "outputs": [],
   "source": [
    "X_train, X_test, y_train, y_test = train_test_split(X, y, test_size=0.2, random_state=42)"
   ]
  },
  {
   "cell_type": "markdown",
   "id": "9746e895",
   "metadata": {},
   "source": [
    "### Step 5: Build and Train the Decision Tree Model"
   ]
  },
  {
   "cell_type": "code",
   "execution_count": null,
   "id": "55d96377",
   "metadata": {},
   "outputs": [],
   "source": [
    "tree_model = DecisionTreeClassifier(random_state=42)\n",
    "tree_model.fit(X_train, y_train)"
   ]
  },
  {
   "cell_type": "markdown",
   "id": "d64ce7c0",
   "metadata": {},
   "source": [
    "### Step 6: Visualize the Decision Tree\n",
    "Visualizing helps understand the splits and decisions made by the model."
   ]
  },
  {
   "cell_type": "code",
   "execution_count": null,
   "id": "f6b901ad",
   "metadata": {},
   "outputs": [],
   "source": [
    "plt.figure(figsize=(20,10))\n",
    "plot_tree(tree_model, feature_names=iris.feature_names, class_names=iris.target_names, filled=True)\n",
    "plt.show()"
   ]
  },
  {
   "cell_type": "markdown",
   "id": "eda87f23",
   "metadata": {},
   "source": [
    "### Step 7: Predict and Evaluate\n",
    "We predict the test set and use confusion matrix and classification report for evaluation."
   ]
  },
  {
   "cell_type": "code",
   "execution_count": null,
   "id": "6d3c6334",
   "metadata": {},
   "outputs": [],
   "source": [
    "y_pred = tree_model.predict(X_test)\n",
    "\n",
    "# Confusion Matrix\n",
    "conf_mat = confusion_matrix(y_test, y_pred)\n",
    "print('Confusion Matrix:')\n",
    "print(conf_mat)\n",
    "\n",
    "# Classification Report\n",
    "print('\\nClassification Report:')\n",
    "print(classification_report(y_test, y_pred, target_names=iris.target_names))"
   ]
  },
  {
   "cell_type": "markdown",
   "id": "65d95d63",
   "metadata": {},
   "source": [
    "### 📚 Final Notes\n",
    "- Decision Trees are interpretable and can handle multi-class problems easily.\n",
    "- Watch out for overfitting if the tree is too deep.\n",
    "- Use visualization and confusion matrix to understand model mistakes and improvements."
   ]
  }
 ],
 "metadata": {},
 "nbformat": 4,
 "nbformat_minor": 5
}
