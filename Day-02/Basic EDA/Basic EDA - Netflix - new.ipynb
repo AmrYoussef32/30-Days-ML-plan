{
 "cells": [],
 "metadata": {
  "kernelspec": {
   "display_name": "Python (amrxenv)",
   "language": "python",
   "name": "amrxenv"
  },
  "language_info": {
   "codemirror_mode": {
    "name": "ipython",
    "version": 3
   },
   "file_extension": ".py",
   "mimetype": "text/x-python",
   "name": "python",
   "nbconvert_exporter": "python",
   "pygments_lexer": "ipython3",
   "version": "3.12.8"
  }
 },
 "nbformat": 4,
 "nbformat_minor": 5
}
